{
 "cells": [
  {
   "cell_type": "code",
   "execution_count": 24,
   "id": "26c45a71-ceff-437a-acf3-49964fe159e3",
   "metadata": {},
   "outputs": [],
   "source": [
    "import requests\n",
    "import bs4"
   ]
  },
  {
   "cell_type": "code",
   "execution_count": 26,
   "id": "3d107751-0e00-44ae-86e0-02626b749710",
   "metadata": {},
   "outputs": [
    {
     "data": {
      "text/plain": [
       "<Response [200]>"
      ]
     },
     "execution_count": 26,
     "metadata": {},
     "output_type": "execute_result"
    }
   ],
   "source": [
    "response = requests.get(\"https://ru.wikipedia.org/wiki/%D0%91%D0%B0%D1%88%D0%BD%D1%8F\")\n",
    "response"
   ]
  },
  {
   "cell_type": "code",
   "execution_count": 56,
   "id": "ff188fab-3608-48da-91cc-9e1b3ce67431",
   "metadata": {},
   "outputs": [
    {
     "name": "stdout",
     "output_type": "stream",
     "text": [
      "Термин:  Ба́шня\n",
      "Определение:  Ба́шня — инженерное сооружение, отличающееся значительным преобладанием высоты над стороной или диаметром основания[1]. Башни могут быть отдельно стоящими или соединёнными с другим зданием или стеной[2]. Ствол башни может быть сплошным (у каменных и железобетонных конструкций) или сквозным, а в сечении круглым, квадратным, многоугольным, встречаются также сечения других форм[3].\n",
      "\n"
     ]
    }
   ],
   "source": [
    "bs = bs4.BeautifulSoup(response.text,\"lxml\")\n",
    "name =bs.find(\"div\", \"mw-content-ltr mw-parser-output\").p.b.text\n",
    "description = bs.find(\"div\", \"mw-content-ltr mw-parser-output\").p.text\n",
    "print(\"Термин: \",name)\n",
    "print(\"Определение: \",description)"
   ]
  },
  {
   "cell_type": "code",
   "execution_count": null,
   "id": "3b6a31d6-df3d-4bbe-950a-af1a8d7c489c",
   "metadata": {},
   "outputs": [],
   "source": []
  }
 ],
 "metadata": {
  "kernelspec": {
   "display_name": "Python 3 (ipykernel)",
   "language": "python",
   "name": "python3"
  },
  "language_info": {
   "codemirror_mode": {
    "name": "ipython",
    "version": 3
   },
   "file_extension": ".py",
   "mimetype": "text/x-python",
   "name": "python",
   "nbconvert_exporter": "python",
   "pygments_lexer": "ipython3",
   "version": "3.12.4"
  }
 },
 "nbformat": 4,
 "nbformat_minor": 5
}
