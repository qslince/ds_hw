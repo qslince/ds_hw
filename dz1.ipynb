{
 "cells": [
  {
   "cell_type": "code",
   "execution_count": 1,
   "id": "915b9f11-c92c-44fb-8ae3-338a7f37d3de",
   "metadata": {},
   "outputs": [],
   "source": [
    "import pandas as pd\n",
    "import datetime\n",
    "import seaborn as sns"
   ]
  },
  {
   "cell_type": "markdown",
   "id": "33a8229c-3830-4e47-b720-8681f04863e0",
   "metadata": {},
   "source": [
    "Задание 1. Загрузка данных из файлов\n"
   ]
  },
  {
   "cell_type": "code",
   "execution_count": 3,
   "id": "bb175ed2-7ff6-4be1-a6d3-e6484eb1fadd",
   "metadata": {},
   "outputs": [],
   "source": [
    "t1 = tutorial_completed = pd.read_csv(r\"C:\\Users\\Admin\\Downloads\\hw_lesson02_tutorial_completed.csv\")\n",
    "s1 = sessions = pd.read_excel(r\"C:\\Users\\Admin\\Downloads\\hw_lesson02_sessions.xlsx\")"
   ]
  },
  {
   "cell_type": "code",
   "execution_count": 4,
   "id": "ef9ae167-d927-4b09-942a-b0f2228c6712",
   "metadata": {},
   "outputs": [
    {
     "name": "stdout",
     "output_type": "stream",
     "text": [
      "<class 'pandas.core.frame.DataFrame'>\n",
      "RangeIndex: 167890 entries, 0 to 167889\n",
      "Data columns (total 6 columns):\n",
      " #   Column            Non-Null Count   Dtype         \n",
      "---  ------            --------------   -----         \n",
      " 0   user_id           167890 non-null  object        \n",
      " 1   region            167890 non-null  object        \n",
      " 2   device            167890 non-null  object        \n",
      " 3   channel           167890 non-null  object        \n",
      " 4   session_duration  167890 non-null  float64       \n",
      " 5   session_start     167890 non-null  datetime64[ns]\n",
      "dtypes: datetime64[ns](1), float64(1), object(4)\n",
      "memory usage: 7.7+ MB\n"
     ]
    }
   ],
   "source": [
    "sessions.info()"
   ]
  },
  {
   "cell_type": "code",
   "execution_count": 5,
   "id": "5dfde246-2384-4a5e-bedf-753625b2a0ed",
   "metadata": {},
   "outputs": [
    {
     "name": "stdout",
     "output_type": "stream",
     "text": [
      "<class 'pandas.core.frame.DataFrame'>\n",
      "RangeIndex: 59857 entries, 0 to 59856\n",
      "Data columns (total 4 columns):\n",
      " #   Column        Non-Null Count  Dtype \n",
      "---  ------        --------------  ----- \n",
      " 0   user_id       59857 non-null  object\n",
      " 1   event_name    59857 non-null  object\n",
      " 2   event_dt      59857 non-null  object\n",
      " 3   duration_sec  59857 non-null  int64 \n",
      "dtypes: int64(1), object(3)\n",
      "memory usage: 1.8+ MB\n"
     ]
    }
   ],
   "source": [
    "tutorial_completed.info()"
   ]
  },
  {
   "cell_type": "code",
   "execution_count": 6,
   "id": "587b0ea3-3014-4a65-858d-00767d5a1e08",
   "metadata": {},
   "outputs": [
    {
     "data": {
      "text/html": [
       "<div>\n",
       "<style scoped>\n",
       "    .dataframe tbody tr th:only-of-type {\n",
       "        vertical-align: middle;\n",
       "    }\n",
       "\n",
       "    .dataframe tbody tr th {\n",
       "        vertical-align: top;\n",
       "    }\n",
       "\n",
       "    .dataframe thead th {\n",
       "        text-align: right;\n",
       "    }\n",
       "</style>\n",
       "<table border=\"1\" class=\"dataframe\">\n",
       "  <thead>\n",
       "    <tr style=\"text-align: right;\">\n",
       "      <th></th>\n",
       "      <th>user_id</th>\n",
       "      <th>region</th>\n",
       "      <th>device</th>\n",
       "      <th>channel</th>\n",
       "      <th>session_duration</th>\n",
       "      <th>session_start</th>\n",
       "    </tr>\n",
       "  </thead>\n",
       "  <tbody>\n",
       "    <tr>\n",
       "      <th>0</th>\n",
       "      <td>d35ad20dd45d</td>\n",
       "      <td>SEA</td>\n",
       "      <td>iPhone</td>\n",
       "      <td>GameAds</td>\n",
       "      <td>2589.186227</td>\n",
       "      <td>2020-04-01 17:51:25</td>\n",
       "    </tr>\n",
       "    <tr>\n",
       "      <th>1</th>\n",
       "      <td>ac4a113c52c_</td>\n",
       "      <td>CIS</td>\n",
       "      <td>iPhone</td>\n",
       "      <td>GameAds</td>\n",
       "      <td>1467.539334</td>\n",
       "      <td>2020-04-01 09:39:33</td>\n",
       "    </tr>\n",
       "    <tr>\n",
       "      <th>2</th>\n",
       "      <td>d0337d117cc8</td>\n",
       "      <td>CIS</td>\n",
       "      <td>iPhone</td>\n",
       "      <td>GameAds</td>\n",
       "      <td>3777.737508</td>\n",
       "      <td>2020-04-01 01:19:56</td>\n",
       "    </tr>\n",
       "    <tr>\n",
       "      <th>3</th>\n",
       "      <td>2f8c_262-_85</td>\n",
       "      <td>North America</td>\n",
       "      <td>iPhone</td>\n",
       "      <td>GameAds</td>\n",
       "      <td>3755.966201</td>\n",
       "      <td>2020-04-01 11:21:54</td>\n",
       "    </tr>\n",
       "    <tr>\n",
       "      <th>4</th>\n",
       "      <td>4b1-114-4692</td>\n",
       "      <td>Europe</td>\n",
       "      <td>iPhone</td>\n",
       "      <td>GameAds</td>\n",
       "      <td>2898.802314</td>\n",
       "      <td>2020-04-01 18:29:57</td>\n",
       "    </tr>\n",
       "  </tbody>\n",
       "</table>\n",
       "</div>"
      ],
      "text/plain": [
       "        user_id         region  device  channel  session_duration  \\\n",
       "0  d35ad20dd45d            SEA  iPhone  GameAds       2589.186227   \n",
       "1  ac4a113c52c_            CIS  iPhone  GameAds       1467.539334   \n",
       "2  d0337d117cc8            CIS  iPhone  GameAds       3777.737508   \n",
       "3  2f8c_262-_85  North America  iPhone  GameAds       3755.966201   \n",
       "4  4b1-114-4692         Europe  iPhone  GameAds       2898.802314   \n",
       "\n",
       "        session_start  \n",
       "0 2020-04-01 17:51:25  \n",
       "1 2020-04-01 09:39:33  \n",
       "2 2020-04-01 01:19:56  \n",
       "3 2020-04-01 11:21:54  \n",
       "4 2020-04-01 18:29:57  "
      ]
     },
     "execution_count": 6,
     "metadata": {},
     "output_type": "execute_result"
    }
   ],
   "source": [
    "sessions.head()"
   ]
  },
  {
   "cell_type": "code",
   "execution_count": 7,
   "id": "9ed3f3c3-b35c-4cbd-974c-f89baec3f62e",
   "metadata": {},
   "outputs": [
    {
     "data": {
      "text/html": [
       "<div>\n",
       "<style scoped>\n",
       "    .dataframe tbody tr th:only-of-type {\n",
       "        vertical-align: middle;\n",
       "    }\n",
       "\n",
       "    .dataframe tbody tr th {\n",
       "        vertical-align: top;\n",
       "    }\n",
       "\n",
       "    .dataframe thead th {\n",
       "        text-align: right;\n",
       "    }\n",
       "</style>\n",
       "<table border=\"1\" class=\"dataframe\">\n",
       "  <thead>\n",
       "    <tr style=\"text-align: right;\">\n",
       "      <th></th>\n",
       "      <th>user_id</th>\n",
       "      <th>event_name</th>\n",
       "      <th>event_dt</th>\n",
       "      <th>duration_sec</th>\n",
       "    </tr>\n",
       "  </thead>\n",
       "  <tbody>\n",
       "    <tr>\n",
       "      <th>0</th>\n",
       "      <td>--0-b0cbb8-a</td>\n",
       "      <td>tutorial_completed</td>\n",
       "      <td>2020-06-08 13:46:07</td>\n",
       "      <td>951</td>\n",
       "    </tr>\n",
       "    <tr>\n",
       "      <th>1</th>\n",
       "      <td>--014ca35_b7</td>\n",
       "      <td>tutorial_completed</td>\n",
       "      <td>2020-05-09 04:20:13</td>\n",
       "      <td>1143</td>\n",
       "    </tr>\n",
       "    <tr>\n",
       "      <th>2</th>\n",
       "      <td>--0424774bcb</td>\n",
       "      <td>tutorial_completed</td>\n",
       "      <td>2020-05-30 07:23:05</td>\n",
       "      <td>3758</td>\n",
       "    </tr>\n",
       "    <tr>\n",
       "      <th>3</th>\n",
       "      <td>--043682a1ad</td>\n",
       "      <td>tutorial_completed</td>\n",
       "      <td>2020-05-15 03:14:40</td>\n",
       "      <td>1326</td>\n",
       "    </tr>\n",
       "    <tr>\n",
       "      <th>4</th>\n",
       "      <td>--05-26b0-6b</td>\n",
       "      <td>tutorial_completed</td>\n",
       "      <td>2020-05-20 13:07:08</td>\n",
       "      <td>2828</td>\n",
       "    </tr>\n",
       "  </tbody>\n",
       "</table>\n",
       "</div>"
      ],
      "text/plain": [
       "        user_id          event_name             event_dt  duration_sec\n",
       "0  --0-b0cbb8-a  tutorial_completed  2020-06-08 13:46:07           951\n",
       "1  --014ca35_b7  tutorial_completed  2020-05-09 04:20:13          1143\n",
       "2  --0424774bcb  tutorial_completed  2020-05-30 07:23:05          3758\n",
       "3  --043682a1ad  tutorial_completed  2020-05-15 03:14:40          1326\n",
       "4  --05-26b0-6b  tutorial_completed  2020-05-20 13:07:08          2828"
      ]
     },
     "execution_count": 7,
     "metadata": {},
     "output_type": "execute_result"
    }
   ],
   "source": [
    "tutorial_completed.head()"
   ]
  },
  {
   "cell_type": "code",
   "execution_count": 8,
   "id": "0270c8cb-20b7-4fdf-8cd9-d87040d02d6a",
   "metadata": {},
   "outputs": [
    {
     "data": {
      "text/plain": [
       "channel\n",
       "BrainPlus    77660\n",
       "JetAds       38526\n",
       "GameAds      34970\n",
       "SenseAds     16734\n",
       "Name: count, dtype: int64"
      ]
     },
     "metadata": {},
     "output_type": "display_data"
    },
    {
     "data": {
      "text/plain": [
       "region\n",
       "CN               33116\n",
       "North America    28260\n",
       "CIS              26187\n",
       "Europe           23413\n",
       "South America    19962\n",
       "Africa           15049\n",
       "SEA              12356\n",
       "Australia         9547\n",
       "Name: count, dtype: int64"
      ]
     },
     "metadata": {},
     "output_type": "display_data"
    }
   ],
   "source": [
    "display(sessions[\"channel\"].value_counts(),sessions[\"region\"].value_counts())"
   ]
  },
  {
   "cell_type": "code",
   "execution_count": 9,
   "id": "2e402106-9f3f-4cde-9a43-bb8f307dc79c",
   "metadata": {},
   "outputs": [
    {
     "data": {
      "text/plain": [
       "user_id\n",
       "-899360ad4b1    27\n",
       "10295d43ff--    26\n",
       "513_16ad5-3_    26\n",
       "5f970b6054f-    24\n",
       "da2d13c24800    24\n",
       "                ..\n",
       "1b5f15fa19_5     1\n",
       "bad-1c5f909f     1\n",
       "c1060a_f-4bf     1\n",
       "a_54-4d1324-     1\n",
       "-175c05_40d3     1\n",
       "Name: count, Length: 83185, dtype: int64"
      ]
     },
     "metadata": {},
     "output_type": "display_data"
    },
    {
     "data": {
      "text/plain": [
       "device\n",
       "Andoroid    116186\n",
       "iPhone       51704\n",
       "Name: count, dtype: int64"
      ]
     },
     "metadata": {},
     "output_type": "display_data"
    }
   ],
   "source": [
    "display(sessions[\"user_id\"]. value_counts(),sessions[\"device\"].value_counts())"
   ]
  },
  {
   "cell_type": "code",
   "execution_count": 10,
   "id": "6b089a98-7050-4f85-adce-383fc252be88",
   "metadata": {},
   "outputs": [
    {
     "data": {
      "text/plain": [
       "array(['tutorial_completed'], dtype=object)"
      ]
     },
     "metadata": {},
     "output_type": "display_data"
    },
    {
     "data": {
      "text/plain": [
       "user_id\n",
       "--0-b0cbb8-a    1\n",
       "779ff_0cd_cd    1\n",
       "778b987af85c    1\n",
       "778dc-_4d681    1\n",
       "778fb71b710b    1\n",
       "               ..\n",
       "--45_0d77-b4    1\n",
       "--468c2dd_-5    1\n",
       "--46f__-7f46    1\n",
       "--4748458509    1\n",
       "fffa9419ccf6    1\n",
       "Name: count, Length: 59857, dtype: int64"
      ]
     },
     "metadata": {},
     "output_type": "display_data"
    }
   ],
   "source": [
    "display(tutorial_completed[\"event_name\"].unique(), tutorial_completed[\"user_id\"].value_counts())"
   ]
  },
  {
   "cell_type": "markdown",
   "id": "e9916191-d45d-4fd7-b94d-a148b0f42b54",
   "metadata": {},
   "source": [
    "В датафрейме tutorial_completed существуют 2 переменных с категориальными данными: user_id и event_name;event_name принимает только одно значение - \"tutorial_completed\", а user_id - уникальный идентификатор пользователя. \n",
    "В датафрейме sessions существуют 4 переменных с категориальными данными: user_id, region, device, channel; user_id - уникальный идентификатор пользователя, один пользователь может заходить в игру несколько раз, region - один из следующих регионов: Юго-Восточная Азия, СНГ, Северная Америка, Европа, Южная Америка, Китай, Африка. device - устройство пользователя: Iphone, Android; channel - рекламный канал: BrainPlus, JetAds, GameAds, SenseAds.6734]]"
   ]
  },
  {
   "cell_type": "code",
   "execution_count": 12,
   "id": "db629070-c8f0-40f5-8f4c-e3333b9c291d",
   "metadata": {},
   "outputs": [
    {
     "data": {
      "text/plain": [
       "(Timestamp('2020-04-01 00:00:23'),\n",
       " Timestamp('2020-06-30 23:59:45'),\n",
       " Timedelta('90 days 23:59:22'))"
      ]
     },
     "execution_count": 12,
     "metadata": {},
     "output_type": "execute_result"
    }
   ],
   "source": [
    "min(sessions[\"session_start\"]), max(sessions[\"session_start\"]), max(sessions[\"session_start\"]) - min(sessions[\"session_start\"])"
   ]
  },
  {
   "cell_type": "code",
   "execution_count": 13,
   "id": "d1de5f0f-e23d-4396-a327-2cd3f2cac5d6",
   "metadata": {},
   "outputs": [],
   "source": [
    "tutorial_completed[\"event_dt\"] = pd.to_datetime(tutorial_completed[\"event_dt\"])"
   ]
  },
  {
   "cell_type": "code",
   "execution_count": 14,
   "id": "802e568f-e34b-4aa0-b345-e987245410ee",
   "metadata": {},
   "outputs": [
    {
     "data": {
      "text/plain": [
       "(Timestamp('2020-04-01 00:04:01'),\n",
       " Timestamp('2020-06-30 23:54:40'),\n",
       " Timedelta('90 days 23:50:39'))"
      ]
     },
     "execution_count": 14,
     "metadata": {},
     "output_type": "execute_result"
    }
   ],
   "source": [
    "min(tutorial_completed[\"event_dt\"]), max(tutorial_completed[\"event_dt\"]), max(tutorial_completed[\"event_dt\"]) - min(tutorial_completed[\"event_dt\"])"
   ]
  },
  {
   "cell_type": "code",
   "execution_count": 15,
   "id": "af8908aa-a567-457a-8acc-13223b870170",
   "metadata": {},
   "outputs": [
    {
     "data": {
      "text/plain": [
       "83185"
      ]
     },
     "execution_count": 15,
     "metadata": {},
     "output_type": "execute_result"
    }
   ],
   "source": [
    "sessions.user_id.unique().size"
   ]
  },
  {
   "cell_type": "markdown",
   "id": "e224832e-0767-44fa-af9d-fc0fe3e9f04d",
   "metadata": {},
   "source": [
    "Больше всего игроков из Китая, большинство играют на Android, больше всего игроков привлек канал BrainPlus, при чем отрыв от второго мества в 2 раза.\n",
    "За почти 91 день в игру играли 83185 пользователей."
   ]
  },
  {
   "cell_type": "markdown",
   "id": "ddb997a1-1538-4dcd-9bf2-16180c004fe7",
   "metadata": {},
   "source": [
    "Задание 2. Описательная статистика\r\n"
   ]
  },
  {
   "cell_type": "code",
   "execution_count": 18,
   "id": "2e063dab-75cd-44bc-bb07-2745375a76dd",
   "metadata": {},
   "outputs": [
    {
     "name": "stdout",
     "output_type": "stream",
     "text": [
      "( 2696.541356900613 1631.8267232939195 2398.0 ) ( 0:44:56.541357 0:39:58 )\n"
     ]
    }
   ],
   "source": [
    "print(\"(\",tutorial_completed.duration_sec.mean(), tutorial_completed.duration_sec.std(), tutorial_completed.duration_sec.median(),\")\",\n",
    "      \"(\",datetime.timedelta(seconds = tutorial_completed.duration_sec.mean()), \n",
    "      datetime.timedelta(seconds = tutorial_completed.duration_sec.median()),\")\")"
   ]
  },
  {
   "cell_type": "code",
   "execution_count": 19,
   "id": "988dca60-c94d-42aa-9fb8-9a45c98ba4b6",
   "metadata": {},
   "outputs": [
    {
     "name": "stdout",
     "output_type": "stream",
     "text": [
      "( 1807.922733189622 1807.8459582958205 1250.3175364674275 ) ( 0:30:07.922733 0:20:50.317536 )\n"
     ]
    }
   ],
   "source": [
    "print(\"(\",sessions.session_duration.mean(), sessions.session_duration.std(), sessions.session_duration.median(),\")\", \n",
    "      \"(\", datetime.timedelta(seconds = sessions.session_duration.mean()), \n",
    "      datetime.timedelta(seconds = sessions.session_duration.median()),\")\")"
   ]
  },
  {
   "cell_type": "code",
   "execution_count": 20,
   "id": "e30474b8-ab4e-4ca6-be62-1ae72f28f355",
   "metadata": {},
   "outputs": [
    {
     "data": {
      "text/plain": [
       "<Axes: xlabel='session_duration', ylabel='Count'>"
      ]
     },
     "execution_count": 20,
     "metadata": {},
     "output_type": "execute_result"
    },
    {
     "data": {
      "image/png": "[encoded data removed]",
      "text/plain": [
       "<Figure size 640x480 with 1 Axes>"
      ]
     },
     "metadata": {},
     "output_type": "display_data"
    }
   ],
   "source": [
    "sns.histplot(data=sessions.session_duration, kde = 1)"
   ]
  },
  {
   "cell_type": "code",
   "execution_count": 21,
   "id": "6e7603ab-8da6-4ddc-ab94-11ce64695f83",
   "metadata": {},
   "outputs": [
    {
     "data": {
      "text/plain": [
       "<Axes: xlabel='duration_sec', ylabel='Count'>"
      ]
     },
     "execution_count": 21,
     "metadata": {},
     "output_type": "execute_result"
    },
    {
     "data": {
      "image/png": "[encoded data removed]",
      "text/plain": [
       "<Figure size 640x480 with 1 Axes>"
      ]
     },
     "metadata": {},
     "output_type": "display_data"
    }
   ],
   "source": [
    "sns.histplot(data=tutorial_completed.duration_sec, kde = 1)"
   ]
  },
  {
   "cell_type": "markdown",
   "id": "2ea5fd58-f62a-4361-b625-265e4bddcedf",
   "metadata": {},
   "source": [
    "Оба распределения являются ненормальными"
   ]
  },
  {
   "cell_type": "markdown",
   "id": "dc9f7b05-0b00-433a-9b41-74b1a42cfe2f",
   "metadata": {},
   "source": [
    "Разница между средним и медианным значениями длительности одной сессии значительна, это может говорить о том, что существует некоторое количество игроков, которых мало, но играют они очень долго.\n",
    "Разница между средним и медианным значениями длительности прохождения туториала говорит о том, что существуют индивиды, для которых обучение показалось слишком сложным."
   ]
  },
  {
   "cell_type": "markdown",
   "id": "07b6d574-cc84-437d-8f81-7d016df7a1d6",
   "metadata": {},
   "source": [
    "Задание 3. Исследование выбросов\n"
   ]
  },
  {
   "cell_type": "code",
   "execution_count": 25,
   "id": "c32c447b-df0c-415d-ad92-77fc8d1c256b",
   "metadata": {},
   "outputs": [
    {
     "data": {
      "text/plain": [
       "<Axes: ylabel='duration_sec'>"
      ]
     },
     "execution_count": 25,
     "metadata": {},
     "output_type": "execute_result"
    },
    {
     "data": {
      "image/png": "[encoded data removed]",
      "text/plain": [
       "<Figure size 640x480 with 1 Axes>"
      ]
     },
     "metadata": {},
     "output_type": "display_data"
    }
   ],
   "source": [
    "sns.boxplot(tutorial_completed.duration_sec)"
   ]
  },
  {
   "cell_type": "code",
   "execution_count": 26,
   "id": "b455cb9a-e964-464a-b78e-cfa0af7d77e8",
   "metadata": {},
   "outputs": [
    {
     "data": {
      "text/plain": [
       "<Axes: ylabel='session_duration'>"
      ]
     },
     "execution_count": 26,
     "metadata": {},
     "output_type": "execute_result"
    },
    {
     "data": {
      "image/png": "[encoded data removed]",
      "text/plain": [
       "<Figure size 640x480 with 1 Axes>"
      ]
     },
     "metadata": {},
     "output_type": "display_data"
    }
   ],
   "source": [
    "sns.boxplot(sessions.session_duration)"
   ]
  },
  {
   "cell_type": "code",
   "execution_count": 27,
   "id": "8521e063-4300-4b7d-9912-8f3cb41cf986",
   "metadata": {},
   "outputs": [
    {
     "data": {
      "text/plain": [
       "(7605.440000000002, 8323.137208860211)"
      ]
     },
     "execution_count": 27,
     "metadata": {},
     "output_type": "execute_result"
    }
   ],
   "source": [
    "tutorial_completed.duration_sec.quantile(q = 0.99), sessions.session_duration.quantile(q = 0.99)"
   ]
  },
  {
   "cell_type": "markdown",
   "id": "6d2d0403-633d-4180-93b0-5e9947ac04f7",
   "metadata": {},
   "source": [
    "Построив ящик с усами для обоих столбцов, посчитав 99% процентиль, можно сделать вывод, о том, что в обоих колонках существует немалое количество выбросов, которые \"портили\" распределение, среднее и медианное значение, другие статистические данные. От них нужно избавиться."
   ]
  },
  {
   "cell_type": "markdown",
   "id": "3bdee730-2b73-4a90-bcce-f7f78a89bd36",
   "metadata": {},
   "source": [
    "Задание 4. Сохранение данных в файл\n"
   ]
  },
  {
   "cell_type": "code",
   "execution_count": 30,
   "id": "9f469118-a464-47e2-9080-346afe7e29a8",
   "metadata": {},
   "outputs": [],
   "source": [
    "tutorial_completed = tutorial_completed.query('duration_sec.quantile(q = 0.99)> duration_sec')\n",
    "sessions = sessions.query('session_duration.quantile(q = 0.99)> session_duration')"
   ]
  },
  {
   "cell_type": "code",
   "execution_count": 31,
   "id": "219cb0ea-f61b-4ced-a36f-937775c9f087",
   "metadata": {},
   "outputs": [
    {
     "data": {
      "text/plain": [
       "<Axes: ylabel='duration_sec'>"
      ]
     },
     "execution_count": 31,
     "metadata": {},
     "output_type": "execute_result"
    },
    {
     "data": {
      "image/png": "[encoded data removed]",
      "text/plain": [
       "<Figure size 640x480 with 1 Axes>"
      ]
     },
     "metadata": {},
     "output_type": "display_data"
    }
   ],
   "source": [
    "sns.boxplot(tutorial_completed.duration_sec)"
   ]
  },
  {
   "cell_type": "code",
   "execution_count": 32,
   "id": "ff0d48c8-dc4b-4288-abde-22dc55c761c6",
   "metadata": {},
   "outputs": [
    {
     "data": {
      "text/plain": [
       "<Axes: ylabel='session_duration'>"
      ]
     },
     "execution_count": 32,
     "metadata": {},
     "output_type": "execute_result"
    },
    {
     "data": {
      "image/png": "[encoded data removed]",
      "text/plain": [
       "<Figure size 640x480 with 1 Axes>"
      ]
     },
     "metadata": {},
     "output_type": "display_data"
    }
   ],
   "source": [
    "sns.boxplot(sessions.session_duration)"
   ]
  },
  {
   "cell_type": "code",
   "execution_count": 33,
   "id": "714d089d-db80-485e-82d6-7274e79fa71d",
   "metadata": {},
   "outputs": [],
   "source": [
    "sessions.to_csv(\"sessions.csv\")\n",
    "tutorial_completed.to_csv(\"tutorial_completed.csv\")"
   ]
  },
  {
   "cell_type": "markdown",
   "id": "a0be0a1e-6724-4a0f-af74-bb6a79c6d831",
   "metadata": {},
   "source": [
    "Задание 5. Фильтрация выбросов с помощью функции\r\n"
   ]
  },
  {
   "cell_type": "code",
   "execution_count": 35,
   "id": "7af73f02-2978-4fd5-9418-6407c69a535c",
   "metadata": {},
   "outputs": [],
   "source": [
    "def filter_outliers(df, col_name, border):\n",
    "    return df.query(f'{col_name}.quantile(q={border}) > {col_name}')\n",
    "dk = filter_outliers(t1, 'duration_sec', 0.95)"
   ]
  },
  {
   "cell_type": "code",
   "execution_count": 36,
   "id": "f0b8d706-db3b-4231-b57d-136ec287045b",
   "metadata": {},
   "outputs": [
    {
     "data": {
      "text/plain": [
       "<Axes: ylabel='duration_sec'>"
      ]
     },
     "execution_count": 36,
     "metadata": {},
     "output_type": "execute_result"
    },
    {
     "data": {
      "image/png": "[encoded data removed]",
      "text/plain": [
       "<Figure size 640x480 with 1 Axes>"
      ]
     },
     "metadata": {},
     "output_type": "display_data"
    }
   ],
   "source": [
    "sns.boxplot(dk.duration_sec)"
   ]
  },
  {
   "cell_type": "code",
   "execution_count": 37,
   "id": "94e28210-57ff-4859-8f03-20a22afe7003",
   "metadata": {},
   "outputs": [
    {
     "data": {
      "text/plain": [
       "<Axes: ylabel='duration_sec'>"
      ]
     },
     "execution_count": 37,
     "metadata": {},
     "output_type": "execute_result"
    },
    {
     "data": {
      "image/png": "[encoded data removed]",
      "text/plain": [
       "<Figure size 640x480 with 1 Axes>"
      ]
     },
     "metadata": {},
     "output_type": "display_data"
    }
   ],
   "source": [
    "sns.boxplot(t1.query('duration_sec.quantile(q=0.95)>duration_sec').duration_sec)"
   ]
  }
 ],
 "metadata": {
  "kernelspec": {
   "display_name": "Python 3 (ipykernel)",
   "language": "python",
   "name": "python3"
  },
  "language_info": {
   "codemirror_mode": {
    "name": "ipython",
    "version": 3
   },
   "file_extension": ".py",
   "mimetype": "text/x-python",
   "name": "python",
   "nbconvert_exporter": "python",
   "pygments_lexer": "ipython3",
   "version": "3.12.4"
  }
 },
 "nbformat": 4,
 "nbformat_minor": 5
}
